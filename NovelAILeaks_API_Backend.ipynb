{
  "cells": [
    {
      "cell_type": "markdown",
      "metadata": {
        "colab_type": "text",
        "id": "view-in-github"
      },
      "source": [
        "<a href=\"https://colab.research.google.com/github/Azure-Vision/NovelAI/blob/master/NovelAILeaks_API_Backend.ipynb\" target=\"_parent\"><img src=\"https://colab.research.google.com/assets/colab-badge.svg\" alt=\"Open In Colab\"/></a>"
      ]
    },
    {
      "cell_type": "markdown",
      "metadata": {
        "id": "KZ88G-iWCTs7"
      },
      "source": [
        "基于 4chan 魔改版 NovelAILeaks (naifu) 制作。[来源](https://boards.4channel.org/g/thread/89095460#p89097704)\n",
        "\n",
        "使用官方前端 + 优化版后端，可突破75限制，支持所有模型。\n",
        "\n",
        "Credit: https://t.me/StableDiffusion_CN https://t.me/exlolicon\n",
        "\n",
        "Thanks: Anonymous, 炼铜术士, 神楽坂早苗️, Jonathan, 咕 咕, 猫又逆变器, Gaein nidb\n",
        "\n"
      ]
    },
    {
      "cell_type": "code",
      "execution_count": 3,
      "metadata": {
        "colab": {
          "base_uri": "https://localhost:8080/"
        },
        "id": "X5yF8TS1CR3L",
        "outputId": "09e30ce4-333d-4466-8235-84ce7adacab7",
        "vscode": {
          "languageId": "shellscript"
        }
      },
      "outputs": [
        {
          "name": "stdout",
          "output_type": "stream",
          "text": [
            "Mon Oct 31 13:23:13 2022       \n",
            "+-----------------------------------------------------------------------------+\n",
            "| NVIDIA-SMI 430.64       Driver Version: 430.64       CUDA Version: 10.1     |\n",
            "|-------------------------------+----------------------+----------------------+\n",
            "| GPU  Name        Persistence-M| Bus-Id        Disp.A | Volatile Uncorr. ECC |\n",
            "| Fan  Temp  Perf  Pwr:Usage/Cap|         Memory-Usage | GPU-Util  Compute M. |\n",
            "|===============================+======================+======================|\n",
            "|   0  Tesla V100-PCIE...  Off  | 00000001:00:00.0 Off |                    0 |\n",
            "| N/A   32C    P0    37W / 250W |   3785MiB / 16160MiB |      0%      Default |\n",
            "+-------------------------------+----------------------+----------------------+\n",
            "|   1  Tesla V100-PCIE...  Off  | 00000002:00:00.0 Off |                    0 |\n",
            "| N/A   31C    P0    36W / 250W |   4122MiB / 16160MiB |      0%      Default |\n",
            "+-------------------------------+----------------------+----------------------+\n",
            "|   2  Tesla V100-PCIE...  Off  | 00000003:00:00.0 Off |                    0 |\n",
            "| N/A   31C    P0    35W / 250W |   3514MiB / 16160MiB |      0%      Default |\n",
            "+-------------------------------+----------------------+----------------------+\n",
            "|   3  Tesla V100-PCIE...  Off  | 00000004:00:00.0 Off |                    0 |\n",
            "| N/A   32C    P0    35W / 250W |   3514MiB / 16160MiB |      0%      Default |\n",
            "+-------------------------------+----------------------+----------------------+\n",
            "                                                                               \n",
            "+-----------------------------------------------------------------------------+\n",
            "| Processes:                                                       GPU Memory |\n",
            "|  GPU       PID   Type   Process name                             Usage      |\n",
            "|=============================================================================|\n",
            "|    0     30493      C   ...ableSense/anaconda3/envs/cr4/bin/python  3773MiB |\n",
            "|    1     30493      C   ...ableSense/anaconda3/envs/cr4/bin/python  4111MiB |\n",
            "|    2     30493      C   ...ableSense/anaconda3/envs/cr4/bin/python  3503MiB |\n",
            "|    3     30493      C   ...ableSense/anaconda3/envs/cr4/bin/python  3503MiB |\n",
            "+-----------------------------------------------------------------------------+\n"
          ]
        }
      ],
      "source": [
        "!nvidia-smi"
      ]
    },
    {
      "cell_type": "code",
      "execution_count": 8,
      "metadata": {
        "colab": {
          "base_uri": "https://localhost:8080/"
        },
        "id": "iqTO_Uf3F6VW",
        "outputId": "8e38b74b-1466-4d59-82af-61a88a4725a6"
      },
      "outputs": [
        {
          "name": "stdout",
          "output_type": "stream",
          "text": [
            "[Errno 2] No such file or directory: 'content/'\n",
            "/home/TableSense/largedisk/wanrong/NovelAI/content\n",
            "\n",
            "10/31 13:26:12 [\u001b[1;31mERROR\u001b[0m] CUID#7 - Download aborted. URI=https://pub-2fdef7a2969f43289c42ac5ae3412fd4.r2.dev/animefull-latest.tar\n",
            "Exception: [AbstractCommand.cc:350] errorCode=1 URI=https://pub-2fdef7a2969f43289c42ac5ae3412fd4.r2.dev/animefull-latest.tar\n",
            "  -> [SocketCore.cc:975] errorCode=1 SSL/TLS handshake failure:  `not signed by known authorities or invalid' `expired'\n",
            "\n",
            "10/31 13:26:12 [\u001b[1;32mNOTICE\u001b[0m] Download GID#6c9db2f58fa0f9de not complete: \n",
            "\n",
            "10/31 13:26:12 [\u001b[1;31mERROR\u001b[0m] CUID#6 - Download aborted. URI=https://pub-2fdef7a2969f43289c42ac5ae3412fd4.r2.dev/naifu.tar\n",
            "Exception: [AbstractCommand.cc:350] errorCode=1 URI=https://pub-2fdef7a2969f43289c42ac5ae3412fd4.r2.dev/naifu.tar\n",
            "  -> [SocketCore.cc:975] errorCode=1 SSL/TLS handshake failure:  `not signed by known authorities or invalid' `expired'\n",
            "\n",
            "10/31 13:26:12 [\u001b[1;32mNOTICE\u001b[0m] Download GID#6322b43c0d76bea6 not complete: \n",
            "\n",
            "Download Results:\n",
            "gid   |stat|avg speed  |path/URI\n",
            "======+====+===========+=======================================================\n",
            "6c9db2|\u001b[1;31mERR\u001b[0m |       0B/s|https://pub-2fdef7a2969f43289c42ac5ae3412fd4.r2.dev/animefull-latest.tar\n",
            "6322b4|\u001b[1;31mERR\u001b[0m |       0B/s|https://pub-2fdef7a2969f43289c42ac5ae3412fd4.r2.dev/naifu.tar\n",
            "\n",
            "Status Legend:\n",
            "(ERR):error occurred.\n",
            "\n",
            "aria2 will resume download if the transfer is restarted.\n",
            "If there are any errors, then see the log file. See '-l' option in help/man page for details.\n",
            "Decompressing...\n",
            "tar: naifu.tar: Cannot open: No such file or directory\n",
            "tar: Error is not recoverable: exiting now\n",
            "Done.\n"
          ]
        }
      ],
      "source": [
        "#@title ### 1. 下载 Novel AI API 后端、模型 \n",
        "#@markdown 如果下载速度太慢可尝试 restart\n",
        "\n",
        "%cd content/\n",
        "!apt install -y -qq aria2\n",
        "!aria2c --summary-interval=5 -x 3 --allow-overwrite=true -Z https://pub-2fdef7a2969f43289c42ac5ae3412fd4.r2.dev/naifu.tar https://pub-2fdef7a2969f43289c42ac5ae3412fd4.r2.dev/animefull-latest.tar \n",
        "  \n",
        "!echo \"Decompressing...\"\n",
        "!tar xf naifu.tar && rm naifu.tar\n",
        "!echo \"Done.\""
      ]
    },
    {
      "cell_type": "code",
      "execution_count": 10,
      "metadata": {
        "colab": {
          "base_uri": "https://localhost:8080/"
        },
        "id": "BysBfYRmGSo1",
        "outputId": "725efef8-eb1b-487c-d466-92c18d896f8f"
      },
      "outputs": [
        {
          "name": "stdout",
          "output_type": "stream",
          "text": [
            "[Errno 2] No such file or directory: 'content/naifu'\n",
            "/home/TableSense/largedisk/wanrong/NovelAI/content\n",
            "Collecting virtualenv\n",
            "  Using cached virtualenv-20.16.6-py3-none-any.whl (8.8 MB)\n",
            "Collecting importlib-resources>=5.4\n",
            "  Using cached importlib_resources-5.4.0-py3-none-any.whl (28 kB)\n",
            "Collecting distlib<1,>=0.3.6\n",
            "  Using cached distlib-0.3.6-py2.py3-none-any.whl (468 kB)\n",
            "Collecting platformdirs<3,>=2.4\n",
            "  Using cached platformdirs-2.4.0-py3-none-any.whl (14 kB)\n",
            "Collecting importlib-metadata>=4.8.3\n",
            "  Using cached importlib_metadata-4.8.3-py3-none-any.whl (17 kB)\n",
            "Collecting filelock<4,>=3.4.1\n",
            "  Using cached filelock-3.4.1-py3-none-any.whl (9.9 kB)\n",
            "Requirement already satisfied: zipp>=0.5 in /home/TableSense/anaconda3/envs/cr4/lib/python3.6/site-packages (from importlib-metadata>=4.8.3->virtualenv) (3.4.0)\n",
            "Requirement already satisfied: typing-extensions>=3.6.4 in /home/TableSense/anaconda3/envs/cr4/lib/python3.6/site-packages (from importlib-metadata>=4.8.3->virtualenv) (4.1.1)\n",
            "Installing collected packages: platformdirs, importlib-resources, importlib-metadata, filelock, distlib, virtualenv\n",
            "  Attempting uninstall: importlib-resources\n",
            "    Found existing installation: importlib-resources 3.3.0\n",
            "    Uninstalling importlib-resources-3.3.0:\n",
            "      Successfully uninstalled importlib-resources-3.3.0\n",
            "  Attempting uninstall: importlib-metadata\n",
            "    Found existing installation: importlib-metadata 2.0.0\n",
            "    Uninstalling importlib-metadata-2.0.0:\n",
            "      Successfully uninstalled importlib-metadata-2.0.0\n",
            "  Attempting uninstall: filelock\n",
            "    Found existing installation: filelock 3.4.0\n",
            "    Uninstalling filelock-3.4.0:\n",
            "      Successfully uninstalled filelock-3.4.0\n",
            "Successfully installed distlib-0.3.6 filelock-3.4.1 importlib-metadata-4.8.3 importlib-resources-5.4.0 platformdirs-2.4.0 virtualenv-20.16.6\n",
            "bash: ./setup.sh: No such file or directory\n",
            "tar: bore: Cannot open: Permission denied\n",
            "tar: Exiting with failure status due to previous errors\n",
            "  % Total    % Received % Xferd  Average Speed   Time    Time     Time  Current\n",
            "                                 Dload  Upload   Total   Spent    Left  Speed\n",
            "  0     0    0     0    0     0      0      0 --:--:-- --:--:-- --:--:--     0\n",
            "  0     0    0     0    0     0      0      0 --:--:-- --:--:-- --:--:--     0\n",
            "Warning: Failed to create the file /usr/bin/cloudflared: Permission denied\n",
            "  0 33.0M    0  1371    0     0   2836      0  3:23:46 --:--:--  3:23:46  2836\n",
            "curl: (23) Failed writing body (0 != 1371)\n"
          ]
        }
      ],
      "source": [
        "#@title ### 2. 安装依赖\n",
        "#@markdown 耐心等待安装完成\n",
        "\n",
        "%cd content/naifu\n",
        "!pip install virtualenv && bash ./setup.sh\n",
        "!curl -Ls https://github.com/ekzhang/bore/releases/download/v0.4.0/bore-v0.4.0-x86_64-unknown-linux-musl.tar.gz | tar zx # -C /usr/bin\n",
        "# !curl -Lo /usr/bin/cloudflared https://github.com/cloudflare/cloudflared/releases/latest/download/cloudflared-linux-amd64 && chmod +x /usr/bin/cloudflared\n",
        "!curl -Lo ./cloudflared https://github.com/cloudflare/cloudflared/releases/latest/download/cloudflared-linux-amd64 && chmod +x ./cloudflared"
      ]
    },
    {
      "cell_type": "code",
      "execution_count": null,
      "metadata": {
        "id": "uQBR9zXQGJrn"
      },
      "outputs": [],
      "source": [
        "#@title ### 3. 启动模型\n",
        "#@markdown 访问输出的映射地址（以 `trycloudflare.com` / `bore.pub` 结尾）即可。\n",
        "#@markdown - 请等待模型加载完成（出现`Application startup complete`字样）再访问\n",
        "#@markdown - cloudflare 提供的服务偶尔会出现请求超时，可换用 bore 隧道\n",
        "\n",
        "%cd content/naifu\n",
        "!sed -i 's/# export SAVE_FILES=\"1\"/export SAVE_FILES=\"1\"/g' run.sh\n",
        "!bash run.sh # & ./cloudflared tunnel --url localhost:6969 "
      ]
    },
    {
      "cell_type": "code",
      "execution_count": null,
      "metadata": {
        "id": "B9j9thAby5_2"
      },
      "outputs": [],
      "source": [
        "#@title ### 4. （可选）使用 7G 的 `animefull-latest` 模型运行\n",
        "#@markdown 默认使用的是 4G 大小的 animefull-final-pruned 模型。如果想使用 7G 的 animefull-latest 模型，运行这个\n",
        "\n",
        "%cd /content/\n",
        "!tar xf animefull-latest.tar -C /content/naifu/models && rm animefull-latest.tar\n",
        "!sed -i 's/map_location=\"cpu\"/map_location=\"cuda\"/g' /content/naifu/hydra_node/models.py\n",
        "\n",
        "%cd /content/naifu\n",
        "%env DTYPE=float16\n",
        "%env CLIP_CONTEXTS=3\n",
        "%env AMP=1\n",
        "%env MODEL=stable-diffusion\n",
        "%env DEV=True\n",
        "%env MODEL_PATH=models/animefull-latest\n",
        "%env ENABLE_EMA=1\n",
        "%env VAE_PATH=models/animevae.pt\n",
        "%env PENULTIMATE=1\n",
        "%env PYTHONDONTWRITEBYTECODE=1\n",
        "%env SAVE_FILES=1\n",
        "\n",
        "!./venv/bin/python -m uvicorn --host 0.0.0.0 --port=6969 main:app & bore local 6969 --to bore.pub & cloudflared tunnel --url localhost:6969 "
      ]
    }
  ],
  "metadata": {
    "accelerator": "GPU",
    "colab": {
      "collapsed_sections": [],
      "include_colab_link": true,
      "provenance": []
    },
    "kernelspec": {
      "display_name": "Python 3.7.13 ('novel')",
      "language": "python",
      "name": "python3"
    },
    "language_info": {
      "codemirror_mode": {
        "name": "ipython",
        "version": 3
      },
      "file_extension": ".py",
      "mimetype": "text/x-python",
      "name": "python",
      "nbconvert_exporter": "python",
      "pygments_lexer": "ipython3",
      "version": "3.7.13"
    },
    "vscode": {
      "interpreter": {
        "hash": "2d34c1e061b82ff05db65485e701ad2b32afe7692740d567f6aa5f3ca75b23c2"
      }
    }
  },
  "nbformat": 4,
  "nbformat_minor": 0
}
